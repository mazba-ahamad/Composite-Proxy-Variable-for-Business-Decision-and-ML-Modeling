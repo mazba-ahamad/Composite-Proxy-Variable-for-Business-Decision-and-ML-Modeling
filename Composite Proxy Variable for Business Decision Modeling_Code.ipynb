{
 "cells": [
  {
   "cell_type": "code",
   "execution_count": null,
   "id": "5ac8bd46",
   "metadata": {},
   "outputs": [],
   "source": [
    "#Importing required packages\n",
    "import pandas as pd\n",
    "from scikitmcda.topsis import TOPSIS\n",
    "#pip install TOPSIS-Manmeet-101803095\n",
    "#source: https://pypi.org/project/TOPSIS-Manmeet-101803095/\n",
    "from topsis import TopsisScore"
   ]
  }
 ],
 "metadata": {
  "kernelspec": {
   "display_name": "Python 3 (ipykernel)",
   "language": "python",
   "name": "python3"
  },
  "language_info": {
   "codemirror_mode": {
    "name": "ipython",
    "version": 3
   },
   "file_extension": ".py",
   "mimetype": "text/x-python",
   "name": "python",
   "nbconvert_exporter": "python",
   "pygments_lexer": "ipython3",
   "version": "3.10.4"
  }
 },
 "nbformat": 4,
 "nbformat_minor": 5
}
