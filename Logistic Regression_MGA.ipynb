{
 "cells": [
  {
   "cell_type": "code",
   "execution_count": null,
   "id": "b8c380ed",
   "metadata": {},
   "outputs": [],
   "source": [
    "#Logistic regression model using a composite proxy target variable\n",
    "\n",
    "#Required packages\n",
    "import numpy as np\n",
    "import pandas as pd\n",
    "from sklearn.linear_model import LogisticRegression\n",
    "from sklearn.model_selection import train_test_split\n",
    "from sklearn.metrics import confusion_matrix\n",
    "\n",
    "#Model data\n",
    "df = pd.read_csv('T:\\Data Path\\df_ml2.csv')\n",
    "df = df.loc[:, df.columns != 'id'] #ID coulmn is not required for regression analysis"
   ]
  },
  {
   "cell_type": "code",
   "execution_count": null,
   "id": "db691ac5",
   "metadata": {},
   "outputs": [],
   "source": [
    "#Logistic regression\n",
    "X = df[['med_age', 'age_45p', 'age_65p', 'female_p', 'avg_mincome', 'avg_fincome', 'medu_yrs', 'fedu_yrs', 'hh_size', 'poverty_p', 'unemp_rate']]\n",
    "y = df['proxy_target']\n",
    "\n",
    "X_train, X_test, y_train, y_test = train_test_split(X, y, test_size=0.2, random_state=0)\n",
    "\n",
    "model = LogisticRegression()\n",
    "model.fit(X_train, y_train)\n",
    "y_pred = model.predict(X_test)"
   ]
  },
  {
   "cell_type": "code",
   "execution_count": null,
   "id": "4fe7a513",
   "metadata": {},
   "outputs": [],
   "source": [
    "#Confusion matrix\n",
    "cnf_matrix = metrics.confusion_matrix(y_test, y_pred)\n",
    "cnf_matrix"
   ]
  },
  {
   "cell_type": "code",
   "execution_count": null,
   "id": "fa2129f0",
   "metadata": {},
   "outputs": [],
   "source": [
    "#Confusion matrix and heatmap\n",
    "import matplotlib.pyplot as plt\n",
    "import seaborn as sns\n",
    "%matplotlib inline\n",
    "\n",
    "class_names = [0,1]\n",
    "fig, ax = plt.subplots()\n",
    "tick_marks = np.arange(len(class_names))\n",
    "plt.xticks(tick_marks, class_names)\n",
    "plt.yticks(tick_marks, class_names)\n",
    "\n",
    "sns.heatmap(pd.DataFrame(cnf_matrix), cmap = \"YlGnBu\", annot=True, fmt = 'g')\n",
    "ax.xaxis.set_label_position(\"top\")\n",
    "plt.tight_layout()\n",
    "plt.ylabel('Actual Class')\n",
    "plt.xlabel('Predicted Class')"
   ]
  },
  {
   "cell_type": "code",
   "execution_count": null,
   "id": "51deb1aa",
   "metadata": {},
   "outputs": [],
   "source": [
    "#Model evaluation\n",
    "train_score = format(model.score(X_train, y_train))\n",
    "test_score = format(model.score(X_test, y_test))\n",
    "print('Accuracy of logistic regression on training set:', train_score)\n",
    "print('Accuracy of logistic regression on test set:', test_score)"
   ]
  },
  {
   "cell_type": "code",
   "execution_count": null,
   "id": "34c49b84",
   "metadata": {},
   "outputs": [],
   "source": [
    "print(\"Accuracy of logistic model:\",metrics.accuracy_score(y_test, y_pred))\n",
    "print(\"Precision of logistic model:\",metrics.precision_score(y_test, y_pred))\n",
    "print(\"Recall of logistic model:\",metrics.recall_score(y_test, y_pred))"
   ]
  },
  {
   "cell_type": "code",
   "execution_count": null,
   "id": "c77f1d4d",
   "metadata": {},
   "outputs": [],
   "source": [
    "#ROC curve\n",
    "from sklearn.metrics import roc_auc_score\n",
    "from sklearn.metrics import roc_curve\n",
    "import matplotlib.pyplot as plt \n",
    "\n",
    "logit_roc_auc = roc_auc_score(y_test, model.predict(X_test))\n",
    "fpr, tpr, thresholds = roc_curve(y_test, model.predict_proba(X_test)[:,1])\n",
    "plt.figure()\n",
    "plt.plot(fpr, tpr, label='Logistic Regression (area = %0.2f)' % logit_roc_auc)\n",
    "plt.plot([0, 1], [0, 1],'r--')\n",
    "plt.xlim([0.0, 1.0])\n",
    "plt.ylim([0.0, 1.05])\n",
    "plt.xlabel('False Positive Rate')\n",
    "plt.ylabel('True Positive Rate')\n",
    "plt.title('ROC')\n",
    "plt.legend(loc=\"lower right\")\n",
    "plt.savefig('Log_ROC')\n",
    "plt.show()"
   ]
  },
  {
   "cell_type": "code",
   "execution_count": null,
   "id": "81e55057",
   "metadata": {},
   "outputs": [],
   "source": [
    "#Coefficients of logistic model\n",
    "model_coef = model.coef_\n",
    "print(pd.DataFrame(model_coef.T,\n",
    "             index = [X.columns.values],\n",
    "             columns = ['Coefficient']))"
   ]
  },
  {
   "cell_type": "code",
   "execution_count": null,
   "id": "1f8b7ff2",
   "metadata": {},
   "outputs": [],
   "source": [
    "#Odds ratio from logistic model\n",
    "ods_ratio = np.exp(model.coef_)\n",
    "print(pd.DataFrame(np.exp(model.coef_).T,\n",
    "             index = [X.columns.values],\n",
    "             columns = ['Odds Ratio']))\n",
    "print('Note: In logistic models, odds ratios are used instead of model coefficients to explain relationships and magnitudes.')"
   ]
  }
 ],
 "metadata": {
  "kernelspec": {
   "display_name": "Python 3 (ipykernel)",
   "language": "python",
   "name": "python3"
  },
  "language_info": {
   "codemirror_mode": {
    "name": "ipython",
    "version": 3
   },
   "file_extension": ".py",
   "mimetype": "text/x-python",
   "name": "python",
   "nbconvert_exporter": "python",
   "pygments_lexer": "ipython3",
   "version": "3.10.4"
  }
 },
 "nbformat": 4,
 "nbformat_minor": 5
}
